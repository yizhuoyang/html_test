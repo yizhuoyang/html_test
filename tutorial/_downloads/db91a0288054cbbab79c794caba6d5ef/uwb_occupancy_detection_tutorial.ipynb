{
  "cells": [
    {
      "cell_type": "markdown",
      "metadata": {},
      "source": [
        "\n# Tutorial for UWB Occupancy Detection\n"
      ]
    },
    {
      "cell_type": "code",
      "execution_count": null,
      "metadata": {
        "collapsed": false
      },
      "outputs": [],
      "source": [
        "import torch\nimport torch.nn as nn\nimport os\n\nfrom pysensing.uwb.datasets.get_dataloader import *\nfrom pysensing.uwb.models.get_model import *\nfrom pysensing.uwb.training.occupancy_detection import *\nfrom pysensing.uwb.inference.predict import *\nfrom pysensing.uwb.inference.embedding import *"
      ]
    },
    {
      "cell_type": "markdown",
      "metadata": {},
      "source": [
        "## Download Data from Cloud Storage\n\nOpen the following link in your browser to download HAR datasets:\n\n[Download nlos_human_detection Dataset](https://pysensing.oss-ap-southeast-1.aliyuncs.com/data/uwb/nlos_human_detection.zip) \\\n[...]()\n\n### Unzip the downloaded file and move to your data folder. For HAR, the data folder should look like this:\n|---data \n|------|---occupancy_detection \n|------|------|---nlos_human_detection \n|------|------|------|---dynamic\n|------|------|------|---static\n```\n\n"
      ]
    },
    {
      "cell_type": "markdown",
      "metadata": {},
      "source": [
        "## Load the data\nOccupancy Detection dataset: \n\nNLOS Huaman Detection Dataset\n- UWB size : n x 256\n\nDataset name choices are:\n- 'nlos_human_detection_raw_dynamic'\n- 'nlos_human_detection_raw_static'\n\n"
      ]
    },
    {
      "cell_type": "code",
      "execution_count": null,
      "metadata": {
        "collapsed": false
      },
      "outputs": [],
      "source": [
        "root = './data' \ntrain_loader, val_loader = load_occupancy_detection_dataset(root, datasetname='nlos_human_detection_raw_dynamic')\ndevice = torch.device(\"cuda\" if torch.cuda.is_available() else \"cpu\")\nfor data in train_loader:\n    x, y = data\n    print(x.size())\n    print(y.size())\n    break"
      ]
    },
    {
      "cell_type": "markdown",
      "metadata": {},
      "source": [
        "## Load the model\nModel zoo:\n- LSTM\n- AutoEncoder\n\n"
      ]
    },
    {
      "cell_type": "code",
      "execution_count": null,
      "metadata": {
        "collapsed": false
      },
      "outputs": [],
      "source": [
        "model = load_occupancy_detection_model(dataset_name = 'nlos_human_detection', model_name = 'autoencoder')\nprint(model)"
      ]
    },
    {
      "cell_type": "markdown",
      "metadata": {},
      "source": [
        "## Model train\n\n"
      ]
    },
    {
      "cell_type": "code",
      "execution_count": null,
      "metadata": {
        "collapsed": false
      },
      "outputs": [],
      "source": [
        "criterion = nn.CrossEntropyLoss()\ndevice = torch.device(\"cuda\" if torch.cuda.is_available() else \"cpu\")\n\nnlos_human_detection_training(\n    root = root,\n    dataset_name='nlos_human_detection_raw_dynamic',\n    model_name='autoencoder',\n    num_epochs=1,\n    learning_rate=0.001,\n    save_weights=True,\n)"
      ]
    },
    {
      "cell_type": "markdown",
      "metadata": {},
      "source": [
        "## Model inference\n\n"
      ]
    },
    {
      "cell_type": "code",
      "execution_count": null,
      "metadata": {
        "collapsed": false
      },
      "outputs": [],
      "source": [
        "occupancy_detector = predictor(\n    task='occupancy_detection',\n    dataset_name='nlos_human_detection',\n    model_name='autoencoder',\n    pt_weights='./nlos_human_detection_weights.pth'\n    )\nfor data in val_loader:\n    x, y = data\n    break\noutputs = occupancy_detector.predict(x)\nprint(\"output:\", outputs)"
      ]
    },
    {
      "cell_type": "markdown",
      "metadata": {},
      "source": [
        "## Generate embedding\n- noted that the `model_name` variable defined in `load_model` function represents the model structure name, and in `load_pretrain_weights` function represents the model structure and pretrain dataset name.\n\n"
      ]
    },
    {
      "cell_type": "code",
      "execution_count": null,
      "metadata": {
        "collapsed": false
      },
      "outputs": [],
      "source": [
        "model = load_occupancy_detection_model(dataset_name = 'nlos_human_detection', model_name = 'autoencoder')\nmodel = load_pretrain_weights(model, dataset_name = 'nlos_human_detection_static', model_name = 'autoencoder',device=device)\nuwb_embedding = occupancy_detection_uwb_embedding(x, model, device)\nprint('uwb_embedding shape: ', uwb_embedding.shape)"
      ]
    }
  ],
  "metadata": {
    "kernelspec": {
      "display_name": "Python 3",
      "language": "python",
      "name": "python3"
    },
    "language_info": {
      "codemirror_mode": {
        "name": "ipython",
        "version": 3
      },
      "file_extension": ".py",
      "mimetype": "text/x-python",
      "name": "python",
      "nbconvert_exporter": "python",
      "pygments_lexer": "ipython3",
      "version": "3.9.12"
    }
  },
  "nbformat": 4,
  "nbformat_minor": 0
}