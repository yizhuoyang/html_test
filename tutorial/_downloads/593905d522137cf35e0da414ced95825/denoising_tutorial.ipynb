{
  "cells": [
    {
      "cell_type": "markdown",
      "metadata": {},
      "source": [
        "\n# CSI Preprocessing.denoising Tutorial\n"
      ]
    },
    {
      "cell_type": "code",
      "execution_count": null,
      "metadata": {
        "collapsed": false
      },
      "outputs": [],
      "source": [
        "# !pip install pysensing"
      ]
    },
    {
      "cell_type": "markdown",
      "metadata": {},
      "source": [
        "In this tutorial, we will be implementing a simple csi.preprocessing.denoising tutorial using the pysensing library.\n\n\n"
      ]
    },
    {
      "cell_type": "code",
      "execution_count": null,
      "metadata": {
        "collapsed": false
      },
      "outputs": [],
      "source": [
        "import sys\nsys.path.append('../..')\nimport pysensing.csi.preprocessing.denoising as denoising\nimport pysensing.csi.dataset.get_dataloader as load_data\nimport matplotlib.pyplot as plt\nimport numpy as np"
      ]
    },
    {
      "cell_type": "markdown",
      "metadata": {},
      "source": [
        "## Load the data\n\n"
      ]
    },
    {
      "cell_type": "code",
      "execution_count": null,
      "metadata": {
        "collapsed": false
      },
      "outputs": [],
      "source": [
        "# Define the plot function\n\ndef plot_csi_heatmap(csi_data):\n    \"\"\"\n    Plot WiFi CSI heatmap.\n\n    \"\"\"\n    data_shape = csi_data.shape\n\n    if len(data_shape) == 2:\n        csi_to_plot = csi_data\n    elif len(data_shape) > 2:\n        csi_to_plot = csi_data.reshape(-1, data_shape[-1])\n    else:\n        raise ValueError(\"The input data should have at least 2 dimensions.\")\n    \n    plt.figure(figsize=(15, 8))\n    plt.imshow(csi_to_plot, aspect='auto', cmap='viridis')\n    plt.colorbar(label='CSI Amplitude')\n    plt.title('WiFi CSI Heatmap')\n    plt.xlabel('Time Index')\n    plt.ylabel('Subcarrier Index / Flattened Antenna-Subcarrier Index')\n    plt.show()\n\n# Load the data\n\n_, test_loader = load_data.load_classification_dataset('UT_HAR',batch_size=1)\nexample_csi_data_list = []\nfor data in test_loader:\n   \n    data, label = data\n    example_csi_data_list.append(data)\n\nexample_csi_data = np.concatenate(example_csi_data_list, axis=-1)\nplot_csi_heatmap(example_csi_data)"
      ]
    },
    {
      "cell_type": "markdown",
      "metadata": {},
      "source": [
        "## 1. lowpass filter\nUse lowpass filter denoising\n\n"
      ]
    },
    {
      "cell_type": "code",
      "execution_count": null,
      "metadata": {
        "collapsed": false
      },
      "outputs": [],
      "source": [
        "wifi_csi_filter = denoising.lowpass_filter(20, 500)\nfiltered_csi_data = wifi_csi_filter(example_csi_data)\nplot_csi_heatmap(filtered_csi_data)"
      ]
    },
    {
      "cell_type": "markdown",
      "metadata": {},
      "source": [
        "## 2. bandpass filter\n Use bandpass filter denoising\n\n"
      ]
    },
    {
      "cell_type": "code",
      "execution_count": null,
      "metadata": {
        "collapsed": false
      },
      "outputs": [],
      "source": [
        "wifi_csi_filter = denoising.bandpass_filter(0.1, 30, 500)\nfiltered_csi_data = wifi_csi_filter(example_csi_data)\nplot_csi_heatmap(filtered_csi_data)"
      ]
    },
    {
      "cell_type": "markdown",
      "metadata": {},
      "source": [
        "## 3. elliptic filter\nUse elliptic filter denoising\n\n"
      ]
    },
    {
      "cell_type": "code",
      "execution_count": null,
      "metadata": {
        "collapsed": false
      },
      "outputs": [],
      "source": [
        "wifi_csi_filter = denoising.elliptic_filter(cutoff_freq=20, passband_ripple=0.5, stopband_attenuation=60, sample_rate=500)\nfiltered_csi_data = wifi_csi_filter(example_csi_data)\nplot_csi_heatmap(filtered_csi_data)"
      ]
    },
    {
      "cell_type": "markdown",
      "metadata": {},
      "source": [
        "## 4. dwt filter\nUse dwt filter denoising\n\n"
      ]
    },
    {
      "cell_type": "code",
      "execution_count": null,
      "metadata": {
        "collapsed": false
      },
      "outputs": [],
      "source": [
        "dwt_filter = denoising.dwt(wavelet='db4', level=2, threshold_ratio=0.4)\nfiltered_csi_data = dwt_filter(example_csi_data)\nplot_csi_heatmap(filtered_csi_data)"
      ]
    },
    {
      "cell_type": "markdown",
      "metadata": {},
      "source": [
        "## 5. stft filter\nUse stft filter denoising\n\n"
      ]
    },
    {
      "cell_type": "code",
      "execution_count": null,
      "metadata": {
        "collapsed": false
      },
      "outputs": [],
      "source": [
        "stft_filter = denoising.stft(window='hann', nperseg=256, noverlap=128, threshold_ratio=0.4)\nfiltered_csi_data = stft_filter(example_csi_data)\nplot_csi_heatmap(filtered_csi_data)"
      ]
    },
    {
      "cell_type": "markdown",
      "metadata": {},
      "source": [
        "## 6. pca filter\nUse pca denoising\n\n"
      ]
    },
    {
      "cell_type": "code",
      "execution_count": null,
      "metadata": {
        "collapsed": false
      },
      "outputs": [],
      "source": [
        "pca_filter = denoising.pca(n_components=3, dimension_to_filter=0)\nreduced_csi_data = pca_filter(example_csi_data.squeeze())\nplot_csi_heatmap(reduced_csi_data)"
      ]
    },
    {
      "cell_type": "markdown",
      "metadata": {},
      "source": [
        "And that's it. We're done with our CSI augmentation.deformation tutorials. Thanks for reading.\n\n"
      ]
    }
  ],
  "metadata": {
    "kernelspec": {
      "display_name": "Python 3",
      "language": "python",
      "name": "python3"
    },
    "language_info": {
      "codemirror_mode": {
        "name": "ipython",
        "version": 3
      },
      "file_extension": ".py",
      "mimetype": "text/x-python",
      "name": "python",
      "nbconvert_exporter": "python",
      "pygments_lexer": "ipython3",
      "version": "3.12.2"
    }
  },
  "nbformat": 4,
  "nbformat_minor": 0
}