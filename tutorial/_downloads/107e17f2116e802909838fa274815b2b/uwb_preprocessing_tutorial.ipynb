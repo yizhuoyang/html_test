{
  "cells": [
    {
      "cell_type": "markdown",
      "metadata": {},
      "source": [
        "\n# Tutorial for UWB Data Preprocessing\n"
      ]
    },
    {
      "cell_type": "code",
      "execution_count": null,
      "metadata": {
        "collapsed": false
      },
      "outputs": [],
      "source": [
        "import torch\nimport torch.nn as nn\nimport numpy as np\nimport os\nimport sys\nimport matplotlib.pyplot as plt"
      ]
    },
    {
      "cell_type": "markdown",
      "metadata": {},
      "source": [
        "## Plot function\n\n"
      ]
    },
    {
      "cell_type": "code",
      "execution_count": null,
      "metadata": {
        "collapsed": false
      },
      "outputs": [],
      "source": [
        "def plot_uwb_heatmap(uwb_data):\n    \"\"\"\n    Plot UWB heatmap.\n\n    \"\"\"\n    data_shape = uwb_data.shape\n\n    if len(data_shape) == 2:\n        uwb_to_plot = uwb_data\n    elif len(data_shape) == 3:\n        uwb_to_plot = np.mean(uwb_data, axis=0)\n    else:\n        raise ValueError(\"The input data should have at least 2 dimensions.\")\n    \n    plt.figure(figsize=(15, 8))\n    plt.imshow(uwb_to_plot, aspect='auto', cmap='viridis')\n    plt.colorbar(label='UWB Amplitude')\n    plt.title('UWB Heatmap')\n    plt.xlabel('Time Index')\n    plt.ylabel('Channel Index')\n    plt.show()"
      ]
    },
    {
      "cell_type": "markdown",
      "metadata": {},
      "source": [
        "## Load UWB Data \n\n"
      ]
    },
    {
      "cell_type": "code",
      "execution_count": null,
      "metadata": {
        "collapsed": false
      },
      "outputs": [],
      "source": [
        "root_dir = './data/sleep_pose_net_data' \ndata_dir = os.path.join(root_dir, 'Dataset I')\nx = np.load(os.path.join(data_dir, 'X.npy'))\nx = x[:,:,30:130]\nx_amp_sample = np.abs(x)[1,:,:]\nplot_uwb_heatmap(x_amp_sample)"
      ]
    },
    {
      "cell_type": "markdown",
      "metadata": {},
      "source": [
        "## Clutter Suppression\nLoad corresponding Clutter Suppression functions\n\n"
      ]
    },
    {
      "cell_type": "code",
      "execution_count": null,
      "metadata": {
        "collapsed": false
      },
      "outputs": [],
      "source": [
        "from pysensing.uwb.preprocessing.clutter_suppression import *"
      ]
    },
    {
      "cell_type": "markdown",
      "metadata": {},
      "source": [
        "## DC Suppression\n\n"
      ]
    },
    {
      "cell_type": "code",
      "execution_count": null,
      "metadata": {
        "collapsed": false
      },
      "outputs": [],
      "source": [
        "x_amp_sample_ = np.expand_dims(x_amp_sample, axis=0)\ndc_suppressed_x = dc_suppression(x_amp_sample_)\nplot_uwb_heatmap(dc_suppressed_x)"
      ]
    },
    {
      "cell_type": "markdown",
      "metadata": {},
      "source": [
        "## Static Background Suppression\n\n"
      ]
    },
    {
      "cell_type": "code",
      "execution_count": null,
      "metadata": {
        "collapsed": false
      },
      "outputs": [],
      "source": [
        "x_amp_sample_copy = np.expand_dims(x_amp_sample, axis=0)\nstatic_background_suppressed_x = static_background_suppression(x_amp_sample_copy)\nplot_uwb_heatmap(static_background_suppressed_x)"
      ]
    },
    {
      "cell_type": "markdown",
      "metadata": {},
      "source": [
        "## Running Background Suppression\n\n"
      ]
    },
    {
      "cell_type": "code",
      "execution_count": null,
      "metadata": {
        "collapsed": false
      },
      "outputs": [],
      "source": [
        "x_amp_sample_copy = np.expand_dims(x_amp_sample, axis=0)\nrunning_background_suppressed_x = running_background_suppression(x_amp_sample_copy, alpha=0.1)\nplot_uwb_heatmap(running_background_suppressed_x)"
      ]
    },
    {
      "cell_type": "markdown",
      "metadata": {},
      "source": [
        "## Cropping\nLoad corresponding Cropping functions\n\n"
      ]
    },
    {
      "cell_type": "code",
      "execution_count": null,
      "metadata": {
        "collapsed": false
      },
      "outputs": [],
      "source": [
        "from pysensing.uwb.preprocessing.cropping import *"
      ]
    },
    {
      "cell_type": "markdown",
      "metadata": {},
      "source": [
        "## Range Selection\n\n"
      ]
    },
    {
      "cell_type": "code",
      "execution_count": null,
      "metadata": {
        "collapsed": false
      },
      "outputs": [],
      "source": [
        "x_amp_sample_ = np.expand_dims(x_amp_sample, axis=0)\ncropped_x, spatial_highest_position = range_selection(x_amp_sample_, spatial_size = 50)\nplot_uwb_heatmap(cropped_x)"
      ]
    },
    {
      "cell_type": "markdown",
      "metadata": {},
      "source": [
        "## Filtering\nLoad corresponding Filtering functions\n\n"
      ]
    },
    {
      "cell_type": "code",
      "execution_count": null,
      "metadata": {
        "collapsed": false
      },
      "outputs": [],
      "source": [
        "from pysensing.uwb.preprocessing.filtering import *"
      ]
    },
    {
      "cell_type": "markdown",
      "metadata": {},
      "source": [
        "## Band Pass Butterworth Filtering\n\n"
      ]
    },
    {
      "cell_type": "code",
      "execution_count": null,
      "metadata": {
        "collapsed": false
      },
      "outputs": [],
      "source": [
        "x_amp_sample_ = np.expand_dims(x_amp_sample, axis=0)\nbutterworth_filter = bandpass_butterworth_filter(low_cut=2, high_cut=4, sample_rate=10, order=4)\nfiltered_uwb_data = butterworth_filter(x_amp_sample_)\nplot_uwb_heatmap(filtered_uwb_data)"
      ]
    },
    {
      "cell_type": "markdown",
      "metadata": {},
      "source": [
        "## NaN Removal\n\n"
      ]
    },
    {
      "cell_type": "code",
      "execution_count": null,
      "metadata": {
        "collapsed": false
      },
      "outputs": [],
      "source": [
        "from pysensing.uwb.preprocessing.nan_removal import *\n\nx_amp_sample_ = x_amp_sample\nnan_removed_data = np.zeros(x_amp_sample_.shape)\nfor i in range(len(x_amp_sample_)):\n    nan_removed_data[i,:] = remove_nan(x_amp_sample_[i,:])\nplot_uwb_heatmap(nan_removed_data)"
      ]
    },
    {
      "cell_type": "markdown",
      "metadata": {},
      "source": [
        "## Normalization\n\n"
      ]
    },
    {
      "cell_type": "code",
      "execution_count": null,
      "metadata": {
        "collapsed": false
      },
      "outputs": [],
      "source": [
        "from pysensing.uwb.preprocessing.normalization import *\n\nx_amp_sample_ = x_amp_sample\nnormalized_uwb_data = normalize_data(x_amp_sample_)\nplot_uwb_heatmap(normalized_uwb_data)"
      ]
    },
    {
      "cell_type": "markdown",
      "metadata": {},
      "source": [
        "## Transformation\nLoad corresponding Transformation functions\n\n"
      ]
    },
    {
      "cell_type": "code",
      "execution_count": null,
      "metadata": {
        "collapsed": false
      },
      "outputs": [],
      "source": [
        "from pysensing.uwb.preprocessing.transformation import *"
      ]
    },
    {
      "cell_type": "markdown",
      "metadata": {},
      "source": [
        "## Time Difference Transform\n\n"
      ]
    },
    {
      "cell_type": "code",
      "execution_count": null,
      "metadata": {
        "collapsed": false
      },
      "outputs": [],
      "source": [
        "x_input = np.abs(x)\ntime_difference_uwb_data = time_difference_transform(x_input, norm = True)\nplot_uwb_heatmap(time_difference_uwb_data[0])"
      ]
    },
    {
      "cell_type": "markdown",
      "metadata": {},
      "source": [
        "## Weighted RTF Transform\n\n"
      ]
    },
    {
      "cell_type": "code",
      "execution_count": null,
      "metadata": {
        "collapsed": false
      },
      "outputs": [],
      "source": [
        "x_input = np.abs(x)\nwrtft_uwb_data = weighted_rtf_transform(x_input, NFFT = 25, stride = 2, norm = True)\nplot_uwb_heatmap(wrtft_uwb_data[0])"
      ]
    }
  ],
  "metadata": {
    "kernelspec": {
      "display_name": "Python 3",
      "language": "python",
      "name": "python3"
    },
    "language_info": {
      "codemirror_mode": {
        "name": "ipython",
        "version": 3
      },
      "file_extension": ".py",
      "mimetype": "text/x-python",
      "name": "python",
      "nbconvert_exporter": "python",
      "pygments_lexer": "ipython3",
      "version": "3.9.12"
    }
  },
  "nbformat": 4,
  "nbformat_minor": 0
}