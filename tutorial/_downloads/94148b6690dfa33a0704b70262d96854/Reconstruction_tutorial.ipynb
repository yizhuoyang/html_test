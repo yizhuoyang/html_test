{
  "cells": [
    {
      "cell_type": "markdown",
      "metadata": {},
      "source": [
        "\n# CSI reconstruction Tutorial\n"
      ]
    },
    {
      "cell_type": "code",
      "execution_count": null,
      "metadata": {
        "collapsed": false
      },
      "outputs": [],
      "source": [
        "# !pip install pysensing"
      ]
    },
    {
      "cell_type": "markdown",
      "metadata": {},
      "source": [
        "In this tutorial, we will be implementing codes for CSI human pose estimation task\n\n\n"
      ]
    },
    {
      "cell_type": "code",
      "execution_count": null,
      "metadata": {
        "collapsed": false
      },
      "outputs": [],
      "source": [
        "import sys\nsys.path.append('../..')\nimport pysensing.csi.dataset.get_dataloader as get_dataloader\nimport pysensing.csi.model.get_model as get_model\nimport pysensing.csi.inference.predict as predict\nimport pysensing.csi.inference.train as train\nimport pysensing.csi.inference.embedding as embedding\nimport torch"
      ]
    },
    {
      "cell_type": "markdown",
      "metadata": {},
      "source": [
        "## Load the data\nCSI reconstruction dataset: \n\n"
      ]
    },
    {
      "cell_type": "code",
      "execution_count": null,
      "metadata": {
        "collapsed": false
      },
      "outputs": [],
      "source": [
        "# HandFi\n# CSI size : 6, 20, 114\n# image : 144, 144\n# joints2d :  2, 42\n# joints3d : 2, 21\n# train number : 3600\n# test number : 400\n\n\ntrain_loader, test_loader = get_dataloader.load_recon_dataset('HandFi', batch_size=32, return_train=True)\ndevice = torch.device(\"cuda\" if torch.cuda.is_available() else \"cpu\")\nfor data in train_loader:\n    ((joints,image), csi) = data\n    joint = joints[:,:,0:21].to(device,dtype=torch.float)\n    img=image.to(device,dtype=torch.float)\n    csi=csi.to(device,dtype=torch.float)\n    joint2d = joint[:,0:2,:] \n    joint2d = joint2d.view(-1,42)\n    joint3d = joint[:,2,:] \n    \n    print('data:', csi)\n    print('img:', img)\n    print('joint:', joint)\n    break"
      ]
    },
    {
      "cell_type": "markdown",
      "metadata": {},
      "source": [
        "## Load the model\nFor HandFi dataset, model zoo contains AutoEncoder.\n\n"
      ]
    },
    {
      "cell_type": "code",
      "execution_count": null,
      "metadata": {
        "collapsed": false
      },
      "outputs": [],
      "source": [
        "model = get_model.load_recon_model('HandFi', 'AutoEncoder')\nprint(model)"
      ]
    },
    {
      "cell_type": "markdown",
      "metadata": {},
      "source": [
        "## Model train\n\n"
      ]
    },
    {
      "cell_type": "code",
      "execution_count": null,
      "metadata": {
        "collapsed": false
      },
      "outputs": [],
      "source": [
        "optimizer = torch.optim.Adam(model.parameters(), lr=0.001)\nepoch_num = 1\n\ntrain.recon_train(train_loader, model, epoch_num, optimizer, device)"
      ]
    },
    {
      "cell_type": "markdown",
      "metadata": {},
      "source": [
        "## Model inference\n\n"
      ]
    },
    {
      "cell_type": "code",
      "execution_count": null,
      "metadata": {
        "collapsed": false
      },
      "outputs": [],
      "source": [
        "model = get_model.load_pretrain(model, 'HandFi', 'AutoEncoder', device=device)\noutput = predict.recon_predict(csi, 'HandFi', model, device)\n_, mask, twod, threed = output \nprint(\"mask:\", mask.shape)\nprint(\"twod:\", twod.shape)\nprint(\"threed:\", threed.shape)"
      ]
    },
    {
      "cell_type": "markdown",
      "metadata": {},
      "source": [
        "## Evaluate the loss\n\n"
      ]
    },
    {
      "cell_type": "code",
      "execution_count": null,
      "metadata": {
        "collapsed": false
      },
      "outputs": [],
      "source": [
        "IoUerr = train.IoU(img,mask) \nmPAerr = train.mPA(img,mask)\nmpjpe, pck = train.mpjpe_pck(joint2d,joint3d, twod, threed)\n\nprint(  f'mPA: {mPAerr:.3f} | => IoU: {IoUerr:.3f} | => mpjpe: {mpjpe:.3f} | =>pck: {pck:.3f}\\n')"
      ]
    },
    {
      "cell_type": "markdown",
      "metadata": {},
      "source": [
        "## Generate embedding\n\n"
      ]
    },
    {
      "cell_type": "code",
      "execution_count": null,
      "metadata": {
        "collapsed": false
      },
      "outputs": [],
      "source": [
        "csi_embedding = embedding.recon_csi_embedding(csi, 'HandFi', model, device)\nprint('csi_embedding: ', csi_embedding)"
      ]
    },
    {
      "cell_type": "markdown",
      "metadata": {},
      "source": [
        "And that's it. We're done with our CSI reconstruction tutorials. Thanks for reading.\n\n"
      ]
    }
  ],
  "metadata": {
    "kernelspec": {
      "display_name": "Python 3",
      "language": "python",
      "name": "python3"
    },
    "language_info": {
      "codemirror_mode": {
        "name": "ipython",
        "version": 3
      },
      "file_extension": ".py",
      "mimetype": "text/x-python",
      "name": "python",
      "nbconvert_exporter": "python",
      "pygments_lexer": "ipython3",
      "version": "3.12.2"
    }
  },
  "nbformat": 4,
  "nbformat_minor": 0
}