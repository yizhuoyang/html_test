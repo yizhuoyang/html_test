{
  "cells": [
    {
      "cell_type": "markdown",
      "metadata": {},
      "source": [
        "\n# Tutorial for Human Pose Estimation\n"
      ]
    },
    {
      "cell_type": "markdown",
      "metadata": {},
      "source": [
        "In[1]:\n\n"
      ]
    },
    {
      "cell_type": "code",
      "execution_count": null,
      "metadata": {
        "collapsed": false
      },
      "outputs": [],
      "source": [
        "import yaml\nimport torch\nimport torch.nn as nn\nfrom tqdm import tqdm\nimport os"
      ]
    },
    {
      "cell_type": "markdown",
      "metadata": {},
      "source": [
        "## Dataset with MetaFi: \n\n"
      ]
    },
    {
      "cell_type": "markdown",
      "metadata": {},
      "source": [
        "Point cloud Pose reconstruction dataset collected by Ti 6843 mmWave radar. 40 subjects are included and the human poses are obtained by 2 RGB camera.\nWe provide cross-subject experiment settings with all daily activities. \nIn the library, we provide a dataloader to use mmWave PC data, and predict these human poses. \n\n"
      ]
    },
    {
      "cell_type": "markdown",
      "metadata": {},
      "source": [
        "## Load the data\n\n"
      ]
    },
    {
      "cell_type": "markdown",
      "metadata": {},
      "source": [
        "In[3]:\n\n"
      ]
    },
    {
      "cell_type": "code",
      "execution_count": null,
      "metadata": {
        "collapsed": false
      },
      "outputs": [],
      "source": [
        "from pysensing.mmwave.PC.dataset.hpe import load_hpe_dataset\n# The path contains the radHAR dataset\nroot =  '/home/junqiao/projects/data/MMFi_Dataset/'\ntrain_dataset, test_dataset = load_hpe_dataset(\"MetaFi\", root)"
      ]
    },
    {
      "cell_type": "markdown",
      "metadata": {},
      "source": [
        "## Visualize the PC data\n\n"
      ]
    },
    {
      "cell_type": "markdown",
      "metadata": {},
      "source": [
        "In[6]:\n\n"
      ]
    },
    {
      "cell_type": "code",
      "execution_count": null,
      "metadata": {
        "collapsed": false
      },
      "outputs": [],
      "source": [
        "from matplotlib import pyplot as plt\nfrom pysensing.mmwave.PC.tutorial.plot import plot_3d_graph\n# Example of the samples in the dataset\nindex = 10  # Randomly select an index\npc,pose = train_dataset.__getitem__(index)\nprint(pc.shape, type(pose))\nplot_3d_graph(pose, pc[0])"
      ]
    },
    {
      "cell_type": "markdown",
      "metadata": {},
      "source": [
        "## Create model \n\n"
      ]
    },
    {
      "cell_type": "markdown",
      "metadata": {},
      "source": [
        "mmFi utilizes PointTransformer model as a baseline hpe method. From model.hpe, we can import \ndesired hpe model designed for mmWave PC. The model parameter for PointTransformer reimplemented \nfor mmFi is as follows:\n\n"
      ]
    },
    {
      "cell_type": "markdown",
      "metadata": {},
      "source": [
        "In[7]:\n\n"
      ]
    },
    {
      "cell_type": "code",
      "execution_count": null,
      "metadata": {
        "collapsed": false
      },
      "outputs": [],
      "source": [
        "from pysensing.mmwave.PC.model.hpe import PointTransformerReg\nmodel = PointTransformerReg(\n                    input_dim = 5,\n                    nblocks = 5,\n                    n_p = 17\n                )\nprint(model)"
      ]
    },
    {
      "cell_type": "markdown",
      "metadata": {},
      "source": [
        "A shortcut for loading the hpe model to avoid the tedious hyper-parameter setting.\n\n"
      ]
    },
    {
      "cell_type": "markdown",
      "metadata": {},
      "source": [
        "In[8]:\n\n"
      ]
    },
    {
      "cell_type": "code",
      "execution_count": null,
      "metadata": {
        "collapsed": false
      },
      "outputs": [],
      "source": [
        "from pysensing.mmwave.PC.model.hpe import load_hpe_model\nmodel = load_hpe_model(\"MetaFi\", \"PointTransformer\")\nprint(model)"
      ]
    },
    {
      "cell_type": "markdown",
      "metadata": {},
      "source": [
        "## Model Train\n\n"
      ]
    },
    {
      "cell_type": "markdown",
      "metadata": {},
      "source": [
        "pysensing library support quick training of model with the following steps. The training interface \nincorporates pytorch loss functions, optimizers and dataloaders to facilate training. \nAn example is provided for how to define the aforemetioned terms.\n\n"
      ]
    },
    {
      "cell_type": "markdown",
      "metadata": {},
      "source": [
        "In[11]:\n\n"
      ]
    },
    {
      "cell_type": "code",
      "execution_count": null,
      "metadata": {
        "collapsed": false
      },
      "outputs": [],
      "source": [
        "# Create pytorch dataloaders\ntrain_loader = torch.utils.data.DataLoader(train_dataset, shuffle=True, batch_size=16, num_workers=16)\ntest_loader = torch.utils.data.DataLoader(test_dataset, batch_size=16, shuffle=False, num_workers=16)\n\n# Define pytorch loss function as criterion \ncriterion = nn.CrossEntropyLoss()\n\n# Define pytorch optimizer for training\noptimizer = torch.optim.Adam(model.parameters(), lr=1e-3)\n\n# GPU acceleration with cuda\ndevice = torch.device(\"cuda\" if torch.cuda.is_available() else \"cpu\")"
      ]
    },
    {
      "cell_type": "markdown",
      "metadata": {},
      "source": [
        "A quick training using hpe_train. The resulted model parameters will be saved into \"train_{num_epochs}.pth\".\n\n"
      ]
    },
    {
      "cell_type": "markdown",
      "metadata": {},
      "source": [
        "In[12]:\n\n"
      ]
    },
    {
      "cell_type": "code",
      "execution_count": null,
      "metadata": {
        "collapsed": false
      },
      "outputs": [],
      "source": [
        "# Pysensing training interface\nfrom pysensing.mmwave.PC.inference.hpe import hpe_train\n# hpe_train(model, train_loader, num_epochs=1, optimizer=optimizer, criterion=criterion, device=device)"
      ]
    },
    {
      "cell_type": "markdown",
      "metadata": {},
      "source": [
        "## Model inference\n\n"
      ]
    },
    {
      "cell_type": "markdown",
      "metadata": {},
      "source": [
        "Load the pretrained model, e.g. from  https://pysensing.oss-ap-southeast-1.aliyuncs.com/pretrain/mmwave_pc/hpe/MetaFi_PointTransformer.pth \n, and perform human pose estimation!\n\n"
      ]
    },
    {
      "cell_type": "markdown",
      "metadata": {},
      "source": [
        "In[13]:\n\n"
      ]
    },
    {
      "cell_type": "code",
      "execution_count": null,
      "metadata": {
        "collapsed": false
      },
      "outputs": [],
      "source": [
        "# load pretrained model\nfrom pysensing.mmwave.PC.inference import load_pretrain\nmodel = load_pretrain(model, \"MetaFi\", \"PointTransformer\").to(device)\nmodel.eval()"
      ]
    },
    {
      "cell_type": "markdown",
      "metadata": {},
      "source": [
        "Test the model on testing dataset.\n\n"
      ]
    },
    {
      "cell_type": "markdown",
      "metadata": {},
      "source": [
        "In[14]:\n\n"
      ]
    },
    {
      "cell_type": "code",
      "execution_count": null,
      "metadata": {
        "collapsed": false
      },
      "outputs": [],
      "source": [
        "from pysensing.mmwave.PC.inference.hpe import hpe_test\n# hpe_test(model, test_loader, criterion=criterion, device=device)"
      ]
    },
    {
      "cell_type": "markdown",
      "metadata": {},
      "source": [
        "Model inference on sample and deep feature embedding of input modality in HPE task.\n\n"
      ]
    },
    {
      "cell_type": "markdown",
      "metadata": {},
      "source": [
        "In[15]:\n\n"
      ]
    },
    {
      "cell_type": "code",
      "execution_count": null,
      "metadata": {
        "collapsed": false
      },
      "outputs": [],
      "source": [
        "# Model inference\nidx = 5\npoints, pose= test_dataset.__getitem__(idx)\npoints = torch.tensor(points).unsqueeze(0).float().to(device)\npredicted_result = model(points)\nprint(\"The predicted pose is {}, while the ground truth is {}\".format(predicted_result.cpu(),pose))\n\n# Deep feature embedding\nfrom pysensing.mmwave.PC.inference.embedding import embedding\nemb = embedding(input = points, model=model, dataset_name = \"MetaFi\", model_name = \"PointTransformer\", device=device)\nprint(\"The shape of feature embedding is: \", emb.shape)"
      ]
    },
    {
      "cell_type": "markdown",
      "metadata": {},
      "source": [
        "## mmDiff: diffusion model for mmWave radar HPE\n\n"
      ]
    },
    {
      "cell_type": "markdown",
      "metadata": {},
      "source": [
        "Load Diffusion Runner with model initialized. This process will define the setting for model and dataset. Currently two settings are implemented: \n1. \"mmBody + P4Transformer\": \n    Phase 1: Input [b, 4, 5000, 6]; Output: [b, 17, 3] and [b, 17, 64]. \n    Phase 2: GRC, LRC, TMC, SLC\n2. \"MetaFi + PointTransformer\": \n    Phase 1: Input [b, 5, 150, 5]; Output: [b, 17, 3] and [b, 17, 32]. \n    Phase 2: GRC, TMC, SLC\n\n"
      ]
    },
    {
      "cell_type": "markdown",
      "metadata": {},
      "source": [
        "In[16]:\n\n"
      ]
    },
    {
      "cell_type": "code",
      "execution_count": null,
      "metadata": {
        "collapsed": false
      },
      "outputs": [],
      "source": [
        "from pysensing.mmwave.PC.model.hpe.mmDiff.load_mmDiff import load_mmDiff\nmmDiffRunner = load_mmDiff(\"MetaFi\")"
      ]
    },
    {
      "cell_type": "markdown",
      "metadata": {},
      "source": [
        "Phase 1 Training: Can train phase 1 from scratch (is_train = True) or load pretrained phase 1 model (is_train = False).\n Set is_save = True to facilitate phase 2 training acceleration.\nIf phase 1 features are saved, set is_save = False.\n\n"
      ]
    },
    {
      "cell_type": "markdown",
      "metadata": {},
      "source": [
        "In[17]:\n\n"
      ]
    },
    {
      "cell_type": "code",
      "execution_count": null,
      "metadata": {
        "collapsed": false
      },
      "outputs": [],
      "source": [
        "mmDiffRunner.phase1_train(train_dataset, test_dataset, is_train=False, is_save=False)"
      ]
    },
    {
      "cell_type": "markdown",
      "metadata": {},
      "source": [
        "Phase 1 can also receive self defined model and the model should follow the setting defined above. The Self-defined model should output coarse joints and coarse joint features.\n\n"
      ]
    },
    {
      "cell_type": "markdown",
      "metadata": {},
      "source": [
        "In[18]:\n\n"
      ]
    },
    {
      "cell_type": "code",
      "execution_count": null,
      "metadata": {
        "collapsed": false
      },
      "outputs": [],
      "source": [
        "# Self defined model should output coarse joints and coarse joint features\nfrom pysensing.mmwave.PC.model.hpe.pointTrans import PointTransformerReg_feat\nmodel = PointTransformerReg_feat(\n                    input_dim = 5,\n                    nblocks = 5,\n                    n_p = 17\n                )\nprint(model)\nmmDiffRunner.phase1_train(train_dataset, test_dataset, model_self=model, is_train=False, is_save=False)"
      ]
    },
    {
      "cell_type": "markdown",
      "metadata": {},
      "source": [
        "Phase 2 Training: Can train from scratch (is_train = True) or load pretrained phase 2 model (is_train = False).\n\n"
      ]
    },
    {
      "cell_type": "markdown",
      "metadata": {},
      "source": [
        "In[19]:\n\n"
      ]
    },
    {
      "cell_type": "code",
      "execution_count": null,
      "metadata": {
        "collapsed": false
      },
      "outputs": [],
      "source": [
        "mmDiffRunner.phase2_train(train_loader = None, is_train = False)"
      ]
    },
    {
      "cell_type": "markdown",
      "metadata": {},
      "source": [
        "Testing mmDiff\n\n"
      ]
    },
    {
      "cell_type": "markdown",
      "metadata": {},
      "source": [
        "In[20]:\n\n"
      ]
    },
    {
      "cell_type": "code",
      "execution_count": null,
      "metadata": {
        "collapsed": false
      },
      "outputs": [],
      "source": [
        "mmDiffRunner.test()"
      ]
    }
  ],
  "metadata": {
    "kernelspec": {
      "display_name": "Python 3",
      "language": "python",
      "name": "python3"
    },
    "language_info": {
      "codemirror_mode": {
        "name": "ipython",
        "version": 3
      },
      "file_extension": ".py",
      "mimetype": "text/x-python",
      "name": "python",
      "nbconvert_exporter": "python",
      "pygments_lexer": "ipython3",
      "version": "3.9.12"
    }
  },
  "nbformat": 4,
  "nbformat_minor": 0
}