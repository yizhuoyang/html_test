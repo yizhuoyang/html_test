{
  "cells": [
    {
      "cell_type": "markdown",
      "metadata": {},
      "source": [
        "\n# CSI classification tasks Tutorial\n"
      ]
    },
    {
      "cell_type": "code",
      "execution_count": null,
      "metadata": {
        "collapsed": false
      },
      "outputs": [],
      "source": [
        "# !pip install pysensing"
      ]
    },
    {
      "cell_type": "markdown",
      "metadata": {},
      "source": [
        "In this tutorial, we will be implementing codes for CSI classification tasks, including Human activity recognition and Human identity detection\n\n\n"
      ]
    },
    {
      "cell_type": "code",
      "execution_count": null,
      "metadata": {
        "collapsed": false
      },
      "outputs": [],
      "source": [
        "import sys\nsys.path.append('../..')\nimport pysensing.csi.dataset.get_dataloader as get_dataloader\nimport pysensing.csi.model.get_model as get_model\nimport pysensing.csi.inference.predict as predict\nimport pysensing.csi.inference.train as train\nimport pysensing.csi.inference.embedding as embedding\nimport torch"
      ]
    },
    {
      "cell_type": "markdown",
      "metadata": {},
      "source": [
        "## Load the data\n\n"
      ]
    },
    {
      "cell_type": "code",
      "execution_count": null,
      "metadata": {
        "collapsed": false
      },
      "outputs": [],
      "source": [
        "# Human action recognition dataset: \n\n# UT-HAR\n# CSI size : 1 x 250 x 90\n# number of classes : 7\n# classes : lie down, fall, walk, pickup, run, sit down, stand up\n# train number : 3977\n# test number : 996\n\n# NTU-HAR\n# CSI size : 3 x 114 x 500\n# number of classes : 6\n# classes : box, circle, clean, fall, run, walk\n# train number : 936\n# test number : 264\n\n# Widar\n# BVP size : 22 x 20 x 20\n# number of classes : 22\n# classes :\n# Push&Pull, Sweep, Clap, Slide, Draw-N(H), Draw-O(H),Draw-Rectangle(H),\n# Draw-Triangle(H), Draw-Zigzag(H), Draw-Zigzag(V), Draw-N(V), Draw-O(V), Draw-1,\n# Draw-2, Draw-3, Draw-4, Draw-5, Draw-6, Draw-7, Draw-8, Draw-9, Draw-10\n# train number : 34926\n# test number : 8726\n\n# Human identity detection dataset:\n\n# NTU-HumanID\n# CSI size : 3 x 114 x 500\n# number of classes : 14\n# classes : gaits of 14 subjects\n# train number : 546\n# test number : 294\n# Examples of NTU-Fi data\n\n\ntrain_loader, test_loader = get_dataloader.load_classification_dataset('UT_HAR', batch_size=1)\ndevice = torch.device(\"cuda\" if torch.cuda.is_available() else \"cpu\")\nfor data in train_loader:\n   \n    csi, label = data\n    csi = csi.to(device)\n    label = label.type(torch.LongTensor).to(device)\n    print('data:', csi)\n    print('label:', label)\n    break"
      ]
    },
    {
      "cell_type": "markdown",
      "metadata": {},
      "source": [
        "## Load the model\nModel zoo:\nMLP\nLeNet\nResNet\nRNN\nGRU\nLSTM\nBiLSTM\nCNN+GRU\nViT\n\n"
      ]
    },
    {
      "cell_type": "code",
      "execution_count": null,
      "metadata": {
        "collapsed": false
      },
      "outputs": [],
      "source": [
        "model = get_model.load_har_model('UT_HAR', 'MLP')\nprint(model)"
      ]
    },
    {
      "cell_type": "markdown",
      "metadata": {},
      "source": [
        "## Model train\n\n"
      ]
    },
    {
      "cell_type": "code",
      "execution_count": null,
      "metadata": {
        "collapsed": false
      },
      "outputs": [],
      "source": [
        "criterion = torch.nn.CrossEntropyLoss()\noptimizer = torch.optim.Adam(model.parameters(), lr=0.001)\nepoch_num = 1\n\ntrain.har_train(train_loader, model, epoch_num, optimizer, criterion, device)"
      ]
    },
    {
      "cell_type": "markdown",
      "metadata": {},
      "source": [
        "## Model inference\n\n"
      ]
    },
    {
      "cell_type": "code",
      "execution_count": null,
      "metadata": {
        "collapsed": false
      },
      "outputs": [],
      "source": [
        "model = get_model.load_pretrain(model, 'UT_HAR', 'MLP', device=device)\noutput = predict.har_predict(csi, 'UT_HAR', model, device).type(torch.FloatTensor).to(device)\nprint(\"output:\", output)"
      ]
    },
    {
      "cell_type": "markdown",
      "metadata": {},
      "source": [
        "## Evaluate the loss\n\n"
      ]
    },
    {
      "cell_type": "code",
      "execution_count": null,
      "metadata": {
        "collapsed": false
      },
      "outputs": [],
      "source": [
        "criterion = torch.nn.CrossEntropyLoss()\nloss = criterion(output, label)\nprint(loss)"
      ]
    },
    {
      "cell_type": "markdown",
      "metadata": {},
      "source": [
        "## Generate embedding\n\n"
      ]
    },
    {
      "cell_type": "code",
      "execution_count": null,
      "metadata": {
        "collapsed": false
      },
      "outputs": [],
      "source": [
        "csi_embedding = embedding.har_csi_embedding(csi, 'UT_HAR', model, device)\nprint('csi_embedding: ', csi_embedding)"
      ]
    },
    {
      "cell_type": "markdown",
      "metadata": {},
      "source": [
        "And that's it. We're done with our CSI humna activity recognition and human identity detection tutorials. Thanks for reading.\n\n"
      ]
    }
  ],
  "metadata": {
    "kernelspec": {
      "display_name": "Python 3",
      "language": "python",
      "name": "python3"
    },
    "language_info": {
      "codemirror_mode": {
        "name": "ipython",
        "version": 3
      },
      "file_extension": ".py",
      "mimetype": "text/x-python",
      "name": "python",
      "nbconvert_exporter": "python",
      "pygments_lexer": "ipython3",
      "version": "3.12.2"
    }
  },
  "nbformat": 4,
  "nbformat_minor": 0
}