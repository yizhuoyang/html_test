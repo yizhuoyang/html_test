{
  "cells": [
    {
      "cell_type": "markdown",
      "metadata": {},
      "source": [
        "\n# Tutorial for tooth segmentation\n"
      ]
    },
    {
      "cell_type": "code",
      "execution_count": null,
      "metadata": {
        "collapsed": false
      },
      "outputs": [],
      "source": [
        "import os\nimport sys\nimport torch\nimport trimesh\nimport requests\nfrom torch import nn\n\nfrom pysensing.intraoral_scan.inference.utils.segmenter import Segmenter\nfrom pysensing.intraoral_scan.inference.ts_predict import predict, visualization\nfrom pysensing.intraoral_scan.inference.utils.ts_dataloader import extract_data_from_root\n\ndef download_weights(remote_url, local_path):\n    if not os.path.exists(local_path):\n        os.makedirs(os.path.dirname(local_path), exist_ok=True)\n        print(f\"Downloading weights from {remote_url}...\")\n        response = requests.get(remote_url, stream=True)\n        response.raise_for_status()\n        with open(local_path, \"wb\") as f:\n            for chunk in response.iter_content(chunk_size=8192):\n                f.write(chunk)\n        print(\"Download complete.\")\n    else:\n        print(\"Weights already exist. Skipping download.\")"
      ]
    },
    {
      "cell_type": "markdown",
      "metadata": {},
      "source": [
        "## Load Model (picking one from following three models)\n\n\n"
      ]
    },
    {
      "cell_type": "code",
      "execution_count": null,
      "metadata": {
        "collapsed": false
      },
      "outputs": [],
      "source": [
        "# Load PCT\nfrom pysensing.intraoral_scan.models.tooth_segmentation.pct import PCT\nos.environ[\"CUDA_VISIBLE_DEVICES\"] = \"0,1\"\n\nmodel = PCT().to(torch.device(\"cuda\"))\nmodel = nn.DataParallel(model)\nREMOTE_WEIGHT_URL = \"https://pysensing.oss-ap-southeast-1.aliyuncs.com/pretrain/intraoral_scan/tooth_segmentation/PCT.pth\"\nLOCAL_WEIGHT_PATH = \"models/PCT\"\ndownload_weights(REMOTE_WEIGHT_URL, LOCAL_WEIGHT_PATH)\nmodel.load_state_dict(torch.load(LOCAL_WEIGHT_PATH, weights_only=True))\nsegmenter = Segmenter(model)\n\n# Load DGCNN\nfrom pysensing.intraoral_scan.models.tooth_segmentation.dgcnn import DGCNN_partseg\nos.environ[\"CUDA_VISIBLE_DEVICES\"] = \"0,1\"\n\nmodel = DGCNN_partseg().to(torch.device(\"cuda\"))\nmodel = nn.DataParallel(model)\nREMOTE_WEIGHT_URL = \"https://pysensing.oss-ap-southeast-1.aliyuncs.com/pretrain/intraoral_scan/tooth_segmentation/DGCNN.pth\"\nLOCAL_WEIGHT_PATH = \"models/DGCNN_TS\"\ndownload_weights(REMOTE_WEIGHT_URL, LOCAL_WEIGHT_PATH)\nmodel.load_state_dict(torch.load(LOCAL_WEIGHT_PATH, weights_only=True))\nsegmenter = Segmenter(model)\n\n# Load DBGANet\nfrom pysensing.intraoral_scan.models.tooth_segmentation.dbganet import DBGANet\nos.environ[\"CUDA_VISIBLE_DEVICES\"] = \"0,1\"\n\nmodel = DBGANet().to(torch.device(\"cuda\"))\nmodel = nn.DataParallel(model)\nREMOTE_WEIGHT_URL = \"https://pysensing.oss-ap-southeast-1.aliyuncs.com/pretrain/intraoral_scan/tooth_segmentation/DBGANet.pth\"\nLOCAL_WEIGHT_PATH = \"models/DBGANet\"\ndownload_weights(REMOTE_WEIGHT_URL, LOCAL_WEIGHT_PATH)\nmodel.load_state_dict(torch.load(LOCAL_WEIGHT_PATH, weights_only=True))\nsegmenter = Segmenter(model)"
      ]
    },
    {
      "cell_type": "markdown",
      "metadata": {},
      "source": [
        "## Load Dataset and Inference\n\n\n"
      ]
    },
    {
      "cell_type": "code",
      "execution_count": null,
      "metadata": {
        "collapsed": false
      },
      "outputs": [],
      "source": [
        "root_path = \"../datasets/tooth_segmentation/data\"\ndata = extract_data_from_root(root_path)\nprediction = predict(data, segmenter=segmenter)"
      ]
    },
    {
      "cell_type": "markdown",
      "metadata": {},
      "source": [
        "## Visualization of Tooth Segmentation Results\n\n\n"
      ]
    },
    {
      "cell_type": "code",
      "execution_count": null,
      "metadata": {
        "collapsed": false
      },
      "outputs": [],
      "source": [
        "data_idx = 0    # Set the data_idx for visualization\nraw_path = '../datasets/tooth_segmentation/example' \njaw_dir, cases_dir = data[data_idx]['jaw_dir'], data[data_idx]['case_dir']\nwith open(f\"{raw_path}/{jaw_dir}/{cases_dir}/{cases_dir}_{jaw_dir}.obj\") as F:\n    mesh = trimesh.exchange.obj.load_obj(F)\n\n# Show original IOS\norig_label = [0 for _ in range(len(data[data_idx]['label']))]\nresult = visualization(mesh, orig_label)\nresult.show()\n\n# Show segmented IOS\npredicted_label = prediction[data_idx]\nresult = visualization(mesh, predicted_label)\nresult.show()\n\n# Show GT IOS\ngt_label = segmenter.convert_clzz_to_label(data[data_idx]['label'])\nresult = visualization(mesh, gt_label)\nresult.show()"
      ]
    }
  ],
  "metadata": {
    "kernelspec": {
      "display_name": "Python 3",
      "language": "python",
      "name": "python3"
    },
    "language_info": {
      "codemirror_mode": {
        "name": "ipython",
        "version": 3
      },
      "file_extension": ".py",
      "mimetype": "text/x-python",
      "name": "python",
      "nbconvert_exporter": "python",
      "pygments_lexer": "ipython3",
      "version": "3.9.12"
    }
  },
  "nbformat": 4,
  "nbformat_minor": 0
}