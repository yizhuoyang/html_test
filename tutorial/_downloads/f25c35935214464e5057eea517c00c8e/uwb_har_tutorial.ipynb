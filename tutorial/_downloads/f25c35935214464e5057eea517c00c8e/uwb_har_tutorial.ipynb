{
  "cells": [
    {
      "cell_type": "markdown",
      "metadata": {},
      "source": [
        "\n# Tutorial for UWB Human Activity Recognition\n"
      ]
    },
    {
      "cell_type": "code",
      "execution_count": null,
      "metadata": {
        "collapsed": false
      },
      "outputs": [],
      "source": [
        "import torch\nimport torch.nn as nn\nimport os\n\nfrom pysensing.uwb.datasets.get_dataloader import *\nfrom pysensing.uwb.models.get_model import *\nfrom pysensing.uwb.training.har import *\nfrom pysensing.uwb.inference.predict import *\nfrom pysensing.uwb.inference.embedding import *"
      ]
    },
    {
      "cell_type": "markdown",
      "metadata": {},
      "source": [
        "## Download Data from Cloud Storage\n\nOpen the following link in your browser to download HAR datasets:\n\n[Download Sleep_Pose_Net Dataset](https://pysensing.oss-ap-southeast-1.aliyuncs.com/data/uwb/sleep_pose_net_data.zip) \\\n[...]()\n\n### Unzip the downloaded file and move to your data folder. For HAR, the data folder should look like this:\n|---data \n|------|---HAR \n|------|------|---sleep_pose_net_data \n|------|------|------|---Dataset I \n|------|------|------|---Dataset II \n```\n\n"
      ]
    },
    {
      "cell_type": "markdown",
      "metadata": {},
      "source": [
        "## Load the data\n\nHuman action recognition dataset: \n\nSleep Pose Net Dataset\nUWB size : n x 160 x 100\nx_diff and x_wrtft size is depended on preprocessing parameters\n\nDataset 1\n- number of classes : 6\n- train number : 623\n- test number : 307\n\nDataset 2\n- number of classes : 7\n- train number : 739\n- test number : 365\n\nDataset name choices are: \n- 'Sleepposenet_dataset1'\n- 'Sleepposenet_dataset2_session1_ceiling'\n- 'Sleepposenet_dataset2_session1_wall'\n- 'Sleepposenet_dataset2_session1_all'\n- 'Sleepposenet_dataset2_session2_ceiling'\n- 'Sleepposenet_dataset2_session2_wall'\n- 'Sleepposenet_dataset2_session2_all'\n- 'Sleepposenet_dataset2_sessionALL_ceiling'\n- 'Sleepposenet_dataset2_sessionALL_wall'\n- 'Sleepposenet_dataset2_sessionALL_all'\n\n"
      ]
    },
    {
      "cell_type": "code",
      "execution_count": null,
      "metadata": {
        "collapsed": false
      },
      "outputs": [],
      "source": [
        "root = './data' \ntrain_loader, test_loader = load_har_dataset(root, 'Sleepposenet_dataset2_session1_all')\ndevice = torch.device(\"cuda\" if torch.cuda.is_available() else \"cpu\")\nfor data in train_loader:\n    x_diff, x_wrtft, labels = data\n    print(x_diff.size())\n    print(x_wrtft.size())\n    print(labels.size())\n    break"
      ]
    },
    {
      "cell_type": "markdown",
      "metadata": {},
      "source": [
        "## Load the model\nModel zoo:\nSleep Pose Net model\n\n"
      ]
    },
    {
      "cell_type": "code",
      "execution_count": null,
      "metadata": {
        "collapsed": false
      },
      "outputs": [],
      "source": [
        "model = load_har_model(dataset_name = 'sleep_pose_net_dataset2', model_name = 'sleepposenet')\nprint(model)"
      ]
    },
    {
      "cell_type": "markdown",
      "metadata": {},
      "source": [
        "## Model train\n\n"
      ]
    },
    {
      "cell_type": "code",
      "execution_count": null,
      "metadata": {
        "collapsed": false
      },
      "outputs": [],
      "source": [
        "criterion = nn.CrossEntropyLoss()\ndevice = torch.device(\"cuda\" if torch.cuda.is_available() else \"cpu\")\n\nsleepposenet_training(\n    root= root,\n    dataset_name='Sleepposenet_dataset2_session1_all',\n    datasetname_model='sleep_pose_net_dataset2',\n    model_name='sleepposenet',\n    num_epochs=5,\n    learning_rate=0.001,\n    save_weights=True\n)"
      ]
    },
    {
      "cell_type": "markdown",
      "metadata": {},
      "source": [
        "## Model inference\nYou need to define the pre-trained weight path in the `predictor` object's `pt_weight_path` variable. Otherwise, the varibale will set to None and no weight will be loaded.\n\n"
      ]
    },
    {
      "cell_type": "code",
      "execution_count": null,
      "metadata": {
        "collapsed": false
      },
      "outputs": [],
      "source": [
        "har_predictor = predictor(\n    task='har', \n    dataset_name='sleep_pose_net_dataset2', \n    model_name='sleepposenet',\n    pt_weights = './sleepposenet_weights.pth'\n)\nfor data in test_loader:\n    x_diff, x_wrtft, labels = data\n    break\noutputs = har_predictor.predict([x_diff, x_wrtft])\nprint(\"output:\", outputs)"
      ]
    },
    {
      "cell_type": "markdown",
      "metadata": {},
      "source": [
        "## Generate embedding\n- noted that the `model_name` variable defined in `load_model` function represents the model structure name, and in `load_pretrain_weights` function represents the model structure and pretrain dataset name.\n\n"
      ]
    },
    {
      "cell_type": "code",
      "execution_count": null,
      "metadata": {
        "collapsed": false
      },
      "outputs": [],
      "source": [
        "model = load_har_model(dataset_name = 'sleep_pose_net_dataset2', model_name = 'sleepposenet')\nmodel = load_pretrain_weights(model, dataset_name = 'sleep_pose_net_dataset2', model_name = 'sleepposenet', device=device)\nuwb_embedding = har_uwb_embedding(x_diff, x_wrtft, model, device)\nprint('uwb_embedding shape: ', uwb_embedding.shape)"
      ]
    }
  ],
  "metadata": {
    "kernelspec": {
      "display_name": "Python 3",
      "language": "python",
      "name": "python3"
    },
    "language_info": {
      "codemirror_mode": {
        "name": "ipython",
        "version": 3
      },
      "file_extension": ".py",
      "mimetype": "text/x-python",
      "name": "python",
      "nbconvert_exporter": "python",
      "pygments_lexer": "ipython3",
      "version": "3.9.12"
    }
  },
  "nbformat": 4,
  "nbformat_minor": 0
}