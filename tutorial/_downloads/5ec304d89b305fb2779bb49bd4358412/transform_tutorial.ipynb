{
  "cells": [
    {
      "cell_type": "markdown",
      "metadata": {},
      "source": [
        "\n# CSI Preprocessing.transform Tutorial\n"
      ]
    },
    {
      "cell_type": "code",
      "execution_count": null,
      "metadata": {
        "collapsed": false
      },
      "outputs": [],
      "source": [
        "# !pip install pysensing"
      ]
    },
    {
      "cell_type": "markdown",
      "metadata": {},
      "source": [
        "In this tutorial, we will be implementing a simple csi.preprocessing.transform tutorial using the pysensing library.\n\n\n"
      ]
    },
    {
      "cell_type": "code",
      "execution_count": null,
      "metadata": {
        "collapsed": false
      },
      "outputs": [],
      "source": [
        "import sys\nsys.path.append('../..')\nimport pysensing.csi.preprocessing.transform as transform\nimport numpy as np"
      ]
    },
    {
      "cell_type": "markdown",
      "metadata": {},
      "source": [
        "## remove_nan\n\n"
      ]
    },
    {
      "cell_type": "code",
      "execution_count": null,
      "metadata": {
        "collapsed": false
      },
      "outputs": [],
      "source": [
        "# remove_nan is a function that removes NaN values from the input data. It can replace NaN values with zero, mean, or median values.\n\ntest_data = [1, None, 3, np.inf, None, 6, -np.inf, 8, 9]\ntest_data1 = transform.remove_nan(test_data, interpolation_method='zero')\nprint(test_data1)\ntest_data2 = transform.remove_nan(test_data, interpolation_method='mean')\nprint(test_data2)\ntest_data3 = transform.remove_nan(test_data, interpolation_method='median')\nprint(test_data3)"
      ]
    },
    {
      "cell_type": "markdown",
      "metadata": {},
      "source": [
        "## normalization\nnormalization is a function that normalizes the input data.\n\n"
      ]
    },
    {
      "cell_type": "code",
      "execution_count": null,
      "metadata": {
        "collapsed": false
      },
      "outputs": [],
      "source": [
        "test_data4 = transform.normalization(test_data1)\nprint(test_data4)"
      ]
    },
    {
      "cell_type": "markdown",
      "metadata": {},
      "source": [
        "And that's it. We're done with our CSI augmentation.normalization tutorials. Thanks for reading.\n\n"
      ]
    }
  ],
  "metadata": {
    "kernelspec": {
      "display_name": "Python 3",
      "language": "python",
      "name": "python3"
    },
    "language_info": {
      "codemirror_mode": {
        "name": "ipython",
        "version": 3
      },
      "file_extension": ".py",
      "mimetype": "text/x-python",
      "name": "python",
      "nbconvert_exporter": "python",
      "pygments_lexer": "ipython3",
      "version": "3.12.2"
    }
  },
  "nbformat": 4,
  "nbformat_minor": 0
}