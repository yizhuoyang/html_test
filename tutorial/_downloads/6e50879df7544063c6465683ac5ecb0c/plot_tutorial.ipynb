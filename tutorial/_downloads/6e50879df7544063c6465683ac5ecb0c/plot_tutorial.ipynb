{
  "cells": [
    {
      "cell_type": "markdown",
      "metadata": {},
      "source": [
        "\n# The plot function\n"
      ]
    },
    {
      "cell_type": "code",
      "execution_count": null,
      "metadata": {
        "collapsed": false
      },
      "outputs": [],
      "source": [
        "import matplotlib.pyplot as plt\nfrom mpl_toolkits.mplot3d import Axes3D\nimport torch\nimport numpy as np\n\ndef plot_3d_graph(tensor1, tensor2, edges=None, elev=-45, azim=-135, roll=45, save_path=None):\n    if tensor1 is not None:\n        if torch.is_tensor(tensor1):\n            tensor1 = tensor1.numpy()\n        tensor1 = tensor1 - tensor1[:1, :]\n        tensor2 = tensor2 - tensor2[:1, :]\n\n    \n    # Move tensors to CPU if on GPU\n    tensor1_cpu = tensor1\n    tensor2_cpu = tensor2\n\n    fig = plt.figure()\n    ax = fig.add_subplot(111, projection='3d')\n\n    # Extracting x, z, and inverted y coordinates from the tensors (switching y and z)\n    if tensor1 is not None:\n        x1, z1, y1 = tensor1_cpu[:, 0], tensor1_cpu[:, 2], -tensor1_cpu[:, 1]\n    if tensor2 is not None:\n        x2, z2, y2 = tensor2_cpu[:, 0], tensor2_cpu[:, 2], -tensor2_cpu[:, 1]\n        if tensor2_cpu.shape[-1] >3:\n            colors = np.where(tensor2_cpu[:,4] >= 0, 'green', 'red')\n        else:\n            colors = \"red\"\n\n    # Scatter plot for the first tensor\n    if tensor1 is not None:\n        ax.scatter(x1, z1, y1, c='b', marker='o', label='Tensor 1')\n\n    # Scatter plot for the second tensor\n    if tensor2 is not None:\n        ax.scatter(x2, z2, y2, c=colors, marker='o', label='Tensor 2')\n\n    # Set default edges if not provided\n    if tensor1 is not None:\n        if edges is None:\n            edges = torch.tensor([[0, 1], [1, 2], [2, 3], [0, 4], [4, 5], [5, 6], [0, 7], [7, 8], [8, 9], [9, 10],\n                                [8, 11], [11, 12], [12, 13], [8, 14], [14, 15], [15, 16]], dtype=torch.long)\n\n        # Plotting lines based on the edges\n        for edge in edges:\n            start_node = tensor1_cpu[edge[0]]\n            end_node = tensor1_cpu[edge[1]]\n\n            ax.plot([start_node[0], end_node[0]],\n                    [start_node[2], end_node[2]],\n                    [-start_node[1], -end_node[1]], c='b', linestyle='-', linewidth=2)\n            \n\n        if tensor2 is not None and tensor2_cpu.shape[-1] == 2:\n            # Plotting lines based on the edges\n            for edge in edges:\n                start_node = tensor2_cpu[edge[0]]\n                end_node = tensor2_cpu[edge[1]]\n\n                ax.plot([start_node[0], end_node[0]],\n                        [start_node[2], end_node[2]],\n                        [-start_node[1], -end_node[1]], c='r', linestyle='-', linewidth=2)\n\n    ax.set_xlabel('X-axis')\n    ax.set_ylabel('Z-axis')\n    ax.set_zlabel('Y-axis')\n\n\n    # # Set axis limits to the range [-1, 1]\n    if tensor1 is not None:\n        ax.set_xlim([-1, 1])\n        ax.set_ylim([-1, 1])\n        ax.set_zlim([-1, 1])\n\n    # Invert the y-axis\n    ax.invert_yaxis()\n\n    # # Hide all ticks and labels except for the x, y, and z axes\n    # ax.set_xticks([])\n    # ax.set_yticks([])\n    # ax.set_zticks([])\n    # ax.set_xticklabels([])\n    # ax.set_yticklabels([])\n    # ax.set_zticklabels([])\n    # ax.grid(False)\n    # ax.axis('off')\n\n    # ax.set_title('3D Graph Plot')\n\n    # Adjusting the angle of view\n    ax.view_init(elev=elev, azim=azim, roll=roll)\n\n    # Save the plot to a file if save_path is provided\n    if save_path is not None:\n        plt.savefig(save_path)\n\n    plt.show()\n\n# # Example usage with saving to a file\n# # Replace these tensors with your actual data\n# # Assuming you're using PyTorch and the tensors are on GPU\n# tensor1 = torch.rand(17, 3, device='cuda') * 2 - 1  # Scale to the range [-1, 1]\n# tensor2 = torch.rand(17, 3, device='cuda') * 2 - 1  # Scale to the range [-1, 1]\n\n# # Adjust the elevation and azimuth angles as needed\n# elevation_angle = 30\n# azimuthal_angle = 45\n\n# # Provide a file path to save the plot (e.g., 'output_graph.png')\n# output_file_path = 'output_graph.png'\n\n# # You can provide your custom edges or leave them as None to use the default edges\n# # edges = torch.tensor([[...]], dtype=torch.long)\n# edges = None\n\n# plot_3d_graph(tensor1, tensor2, edges=edges, elev=elevation_angle, azim=azimuthal_angle, save_path=output_file_path)"
      ]
    }
  ],
  "metadata": {
    "kernelspec": {
      "display_name": "Python 3",
      "language": "python",
      "name": "python3"
    },
    "language_info": {
      "codemirror_mode": {
        "name": "ipython",
        "version": 3
      },
      "file_extension": ".py",
      "mimetype": "text/x-python",
      "name": "python",
      "nbconvert_exporter": "python",
      "pygments_lexer": "ipython3",
      "version": "3.9.12"
    }
  },
  "nbformat": 4,
  "nbformat_minor": 0
}