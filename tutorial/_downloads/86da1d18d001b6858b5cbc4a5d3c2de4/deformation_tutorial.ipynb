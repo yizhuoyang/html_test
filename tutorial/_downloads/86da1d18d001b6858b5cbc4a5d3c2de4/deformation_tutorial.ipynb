{
  "cells": [
    {
      "cell_type": "markdown",
      "metadata": {},
      "source": [
        "\n# CSI Augmentation.deformation Tutorial\n"
      ]
    },
    {
      "cell_type": "code",
      "execution_count": null,
      "metadata": {
        "collapsed": false
      },
      "outputs": [],
      "source": [
        "# !pip install pysensing"
      ]
    },
    {
      "cell_type": "markdown",
      "metadata": {},
      "source": [
        "In this tutorial, we will be implementing a simple csi.augmentation.deformation tutorial using the pysensing library.\n\n\n"
      ]
    },
    {
      "cell_type": "code",
      "execution_count": null,
      "metadata": {
        "collapsed": false
      },
      "outputs": [],
      "source": [
        "import sys\nsys.path.append('../..')\nimport pysensing.csi.augmentation.deformation as deformation\nimport pysensing.csi.dataset.get_dataloader as load_data\nimport matplotlib.pyplot as plt\nimport numpy as np\nfrom scipy import signal"
      ]
    },
    {
      "cell_type": "markdown",
      "metadata": {},
      "source": [
        "## Load the data\n\n"
      ]
    },
    {
      "cell_type": "code",
      "execution_count": null,
      "metadata": {
        "collapsed": false
      },
      "outputs": [],
      "source": [
        "# Define the plot function\n\ndef plot_csi_heatmap(csi_data):\n    \"\"\"\n    Plot WiFi CSI heatmap.\n\n    \"\"\"\n    data_shape = csi_data.shape\n\n    if len(data_shape) == 2:\n        csi_to_plot = csi_data\n    elif len(data_shape) > 2:\n        csi_to_plot = csi_data.reshape(-1, data_shape[-1])\n    else:\n        raise ValueError(\"The input data should have at least 2 dimensions.\")\n    \n    plt.figure(figsize=(15, 8))\n    plt.imshow(csi_to_plot, aspect='auto', cmap='viridis')\n    plt.colorbar(label='CSI Amplitude')\n    plt.title('WiFi CSI Heatmap')\n    plt.xlabel('Time Index')\n    plt.ylabel('Subcarrier Index / Flattened Antenna-Subcarrier Index')\n    plt.show()\n    \n    \ndef plot_spec(csi):\n    _, _, csi_spectrogram = signal.stft(csi, window='hann', nperseg=256, noverlap=128)\n    specgram = np.abs(csi_spectrogram) \n    plt.figure(figsize=(10,5))\n    plt.imshow(specgram.squeeze(), aspect='auto', origin='lower', cmap='inferno')\n    plt.colorbar(label='CSI Amplitude')\n    plt.xlabel('Time (s)')\n    plt.ylabel('Frequency (Hz)')\n\n# Load the data\n\n_, test_loader = load_data.load_classification_dataset('UT_HAR',batch_size=1)\nexample_csi_data_list = []\nfor data in test_loader:\n    data, label = data\n    example_csi_data_list.append(data)\n\nexample_csi_data = np.concatenate(example_csi_data_list, axis=-1)\nplot_csi_heatmap(example_csi_data)"
      ]
    },
    {
      "cell_type": "markdown",
      "metadata": {},
      "source": [
        "## 1. time stretching\nUse time stretching augmentation\n\n"
      ]
    },
    {
      "cell_type": "code",
      "execution_count": null,
      "metadata": {
        "collapsed": false
      },
      "outputs": [],
      "source": [
        "csi_process = deformation.time_stretching(stretch_rate=0.4)\nreduced_csi_data = csi_process(example_csi_data)\nplot_csi_heatmap(reduced_csi_data)"
      ]
    },
    {
      "cell_type": "markdown",
      "metadata": {},
      "source": [
        "## 2. spectrum scaling\n Use spectrum scaling augmentation\n\n"
      ]
    },
    {
      "cell_type": "code",
      "execution_count": null,
      "metadata": {
        "collapsed": false
      },
      "outputs": [],
      "source": [
        "csi_process = deformation.spectrum_scaling(scale_factor=4)\nreduced_csi_data = csi_process(example_csi_data)\nplot_spec(example_csi_data.squeeze()[2])\nplot_spec(reduced_csi_data.squeeze()[2])\nplot_csi_heatmap(reduced_csi_data)"
      ]
    },
    {
      "cell_type": "markdown",
      "metadata": {},
      "source": [
        "## 3. spectrum shifting\nUse spectrum shifting augmentation\n\n"
      ]
    },
    {
      "cell_type": "code",
      "execution_count": null,
      "metadata": {
        "collapsed": false
      },
      "outputs": [],
      "source": [
        "csi_process = deformation.spectrum_shifting(shift_min=0, shift_max=0.5)\nreduced_csi_data = csi_process(example_csi_data)\nplot_spec(example_csi_data.squeeze()[2])\nplot_spec(reduced_csi_data.squeeze()[2])\nplot_csi_heatmap(reduced_csi_data)"
      ]
    },
    {
      "cell_type": "markdown",
      "metadata": {},
      "source": [
        "And that's it. We're done with our CSI augmentation.deformation tutorials. Thanks for reading.\n\n"
      ]
    }
  ],
  "metadata": {
    "kernelspec": {
      "display_name": "Python 3",
      "language": "python",
      "name": "python3"
    },
    "language_info": {
      "codemirror_mode": {
        "name": "ipython",
        "version": 3
      },
      "file_extension": ".py",
      "mimetype": "text/x-python",
      "name": "python",
      "nbconvert_exporter": "python",
      "pygments_lexer": "ipython3",
      "version": "3.12.2"
    }
  },
  "nbformat": 4,
  "nbformat_minor": 0
}