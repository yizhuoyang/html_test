{
  "cells": [
    {
      "cell_type": "markdown",
      "metadata": {},
      "source": [
        "\n# Tutorial for UWB Data Augmentation\n"
      ]
    },
    {
      "cell_type": "code",
      "execution_count": null,
      "metadata": {
        "collapsed": false
      },
      "outputs": [],
      "source": [
        "import torch\nimport torch.nn as nn\nimport numpy as np\nimport os\nimport sys\nimport matplotlib.pyplot as plt"
      ]
    },
    {
      "cell_type": "markdown",
      "metadata": {},
      "source": [
        "## Plot function\n\n"
      ]
    },
    {
      "cell_type": "code",
      "execution_count": null,
      "metadata": {
        "collapsed": false
      },
      "outputs": [],
      "source": [
        "def plot_uwb_heatmap(uwb_data):\n    \"\"\"\n    Plot UWB heatmap.\n\n    \"\"\"\n    data_shape = uwb_data.shape\n\n    if len(data_shape) == 2:\n        uwb_to_plot = uwb_data\n    elif len(data_shape) == 3:\n        uwb_to_plot = np.mean(uwb_data, axis=0)\n    else:\n        raise ValueError(\"The input data should have at least 2 dimensions.\")\n    \n    plt.figure(figsize=(15, 8))\n    plt.imshow(uwb_to_plot, aspect='auto', cmap='viridis')\n    plt.colorbar(label='UWB Amplitude')\n    plt.title('UWB Heatmap')\n    plt.xlabel('Time Index')\n    plt.ylabel('Channel Index')\n    plt.show()"
      ]
    },
    {
      "cell_type": "markdown",
      "metadata": {},
      "source": [
        "## Load UWB Data \n\n"
      ]
    },
    {
      "cell_type": "code",
      "execution_count": null,
      "metadata": {
        "collapsed": false
      },
      "outputs": [],
      "source": [
        "root_dir = './data/sleep_pose_net_data' \ndata_dir = os.path.join(root_dir, 'Dataset I')\nx = np.load(os.path.join(data_dir, 'X.npy'))\nx = x[:,:,30:130]\nx_amp_sample = np.abs(x)[82,:,:]\nplot_uwb_heatmap(x_amp_sample)"
      ]
    },
    {
      "cell_type": "markdown",
      "metadata": {},
      "source": [
        "## Magnitude Warping\n\n"
      ]
    },
    {
      "cell_type": "code",
      "execution_count": null,
      "metadata": {
        "collapsed": false
      },
      "outputs": [],
      "source": [
        "from pysensing.uwb.augmentation.magnitude_warping import *\n\nx_amp_sample_ = x_amp_sample.transpose()\nMag_warping_x = MagWarp(x_amp_sample_, sigma = 0.4, knot= 4)\nplot_uwb_heatmap(Mag_warping_x.transpose())"
      ]
    },
    {
      "cell_type": "markdown",
      "metadata": {},
      "source": [
        "## Time Warping\n\n"
      ]
    },
    {
      "cell_type": "code",
      "execution_count": null,
      "metadata": {
        "collapsed": false
      },
      "outputs": [],
      "source": [
        "from pysensing.uwb.augmentation.time_warping import *\n\nx_amp_sample_ = x_amp_sample.transpose()\ntime_warping_x = TimeWarp(x_amp_sample_, sigma = 0.4, knot= 4)\nplot_uwb_heatmap(time_warping_x.transpose())"
      ]
    },
    {
      "cell_type": "markdown",
      "metadata": {},
      "source": [
        "## Time Shifting\n\n"
      ]
    },
    {
      "cell_type": "code",
      "execution_count": null,
      "metadata": {
        "collapsed": false
      },
      "outputs": [],
      "source": [
        "from pysensing.uwb.augmentation.time_shifting import *\n\nx_amp_sample_ = x_amp_sample.transpose()\ntime_shifted_x = signal_shift_time(x_amp_sample_, shft_arr = [10, -10])\nplot_uwb_heatmap(time_shifted_x[0].transpose())\nplot_uwb_heatmap(time_shifted_x[1].transpose())"
      ]
    },
    {
      "cell_type": "markdown",
      "metadata": {},
      "source": [
        "## Range Shifting\n\n"
      ]
    },
    {
      "cell_type": "code",
      "execution_count": null,
      "metadata": {
        "collapsed": false
      },
      "outputs": [],
      "source": [
        "from pysensing.uwb.augmentation.range_shifting import *\n\nx_amp_sample_ = x_amp_sample.transpose()\nrange_shifted_x = signal_shift(x_amp_sample_, shft_arr = [30, -30])\nplot_uwb_heatmap(range_shifted_x[0].transpose())\nplot_uwb_heatmap(range_shifted_x[1].transpose())"
      ]
    },
    {
      "cell_type": "markdown",
      "metadata": {},
      "source": [
        "## Scaling\n\n"
      ]
    },
    {
      "cell_type": "code",
      "execution_count": null,
      "metadata": {
        "collapsed": false
      },
      "outputs": [],
      "source": [
        "from pysensing.uwb.augmentation.scaling import *\n\nx_amp_sample_ = x_amp_sample.transpose()\nscaled_x = DA_Scaling(x_amp_sample_, sigma= 0.1)\nplot_uwb_heatmap(scaled_x.transpose())"
      ]
    }
  ],
  "metadata": {
    "kernelspec": {
      "display_name": "Python 3",
      "language": "python",
      "name": "python3"
    },
    "language_info": {
      "codemirror_mode": {
        "name": "ipython",
        "version": 3
      },
      "file_extension": ".py",
      "mimetype": "text/x-python",
      "name": "python",
      "nbconvert_exporter": "python",
      "pygments_lexer": "ipython3",
      "version": "3.9.12"
    }
  },
  "nbformat": 4,
  "nbformat_minor": 0
}