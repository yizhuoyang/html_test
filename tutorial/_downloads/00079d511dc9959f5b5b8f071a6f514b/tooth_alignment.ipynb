{
  "cells": [
    {
      "cell_type": "markdown",
      "metadata": {},
      "source": [
        "\n# Tutorial for tooth alignment\n"
      ]
    },
    {
      "cell_type": "code",
      "execution_count": null,
      "metadata": {
        "collapsed": false
      },
      "outputs": [],
      "source": [
        "import os\nimport sys\nimport torch\nimport requests\n\nfrom pysensing.intraoral_scan.preprocessing.ta_utils import *\nfrom pysensing.intraoral_scan.inference.utils import ta_dataloader\nfrom pysensing.intraoral_scan.inference.ta_predict import predict\n\ndef download_weights(remote_url, local_path):\n    if not os.path.exists(local_path):\n        os.makedirs(os.path.dirname(local_path), exist_ok=True)\n        print(f\"Downloading weights from {remote_url}...\")\n        response = requests.get(remote_url, stream=True)\n        response.raise_for_status()\n        with open(local_path, \"wb\") as f:\n            for chunk in response.iter_content(chunk_size=8192):\n                f.write(chunk)\n        print(\"Download complete.\")\n    else:\n        print(\"Weights already exist. Skipping download.\")"
      ]
    },
    {
      "cell_type": "markdown",
      "metadata": {},
      "source": [
        "## Load Model (picking one from following three models)\n\n\n"
      ]
    },
    {
      "cell_type": "code",
      "execution_count": null,
      "metadata": {
        "collapsed": false
      },
      "outputs": [],
      "source": [
        "# Load CurveNet\nfrom pysensing.intraoral_scan.models.tooth_alignment.curvenet import CurveNet\nos.environ[\"CUDA_VISIBLE_DEVICES\"] = \"0\"\n\nmodel = CurveNet()\nREMOTE_WEIGHT_URL = \"https://pysensing.oss-ap-southeast-1.aliyuncs.com/pretrain/intraoral_scan/tooth_alignment/CurveNet.pth\"\nLOCAL_WEIGHT_PATH = \"models/CurveNet\"\ndownload_weights(REMOTE_WEIGHT_URL, LOCAL_WEIGHT_PATH)\nmodel.load_state_dict(torch.load(LOCAL_WEIGHT_PATH, weights_only=True, map_location=\"cuda\"))\n\n# Load DGCNN\nfrom pysensing.intraoral_scan.models.tooth_alignment.dgcnn import DGCNN\nos.environ[\"CUDA_VISIBLE_DEVICES\"] = \"0\"\n\nmodel = DGCNN()\nREMOTE_WEIGHT_URL = \"https://pysensing.oss-ap-southeast-1.aliyuncs.com/pretrain/intraoral_scan/tooth_alignment/DGCNN.pth\"\nLOCAL_WEIGHT_PATH = \"models/DGCNN_TA\"\ndownload_weights(REMOTE_WEIGHT_URL, LOCAL_WEIGHT_PATH)\nmodel.load_state_dict(torch.load(LOCAL_WEIGHT_PATH, weights_only=True, map_location=\"cuda\"))\n\n# Load TANet\nfrom pysensing.intraoral_scan.models.tooth_alignment.tanet import TANet\nos.environ[\"CUDA_VISIBLE_DEVICES\"] = \"0\"\n\nmodel = TANet()\nREMOTE_WEIGHT_URL = \"https://pysensing.oss-ap-southeast-1.aliyuncs.com/pretrain/intraoral_scan/tooth_alignment/TANet.pth\"\nLOCAL_WEIGHT_PATH = \"models/TANet\"\ndownload_weights(REMOTE_WEIGHT_URL, LOCAL_WEIGHT_PATH)\nmodel.load_state_dict(torch.load(LOCAL_WEIGHT_PATH, weights_only=True, map_location=\"cuda\"))"
      ]
    },
    {
      "cell_type": "markdown",
      "metadata": {},
      "source": [
        "## Load Dataset\n\n\n"
      ]
    },
    {
      "cell_type": "code",
      "execution_count": null,
      "metadata": {
        "collapsed": false
      },
      "outputs": [],
      "source": [
        "dataset_path = \"../datasets/tooth_alignment/example/data\"\nbatch_size = 3\n\ndata_loader = ta_dataloader.DataLoader(dataset_path, batch_size)\nprint(len(data_loader))"
      ]
    },
    {
      "cell_type": "markdown",
      "metadata": {},
      "source": [
        "## Model Inference\n\n\n"
      ]
    },
    {
      "cell_type": "code",
      "execution_count": null,
      "metadata": {
        "collapsed": false
      },
      "outputs": [],
      "source": [
        "# Predict the results\nnum_point_tooth = 400   # the number of points for each tooth pointcloud\npreds = predict(data_loader, num_point_tooth, model, \"cuda\")\n\n# transform the prediction to pose\nroot = \"../datasets/tooth_alignment/example\"\nans_pose = trans_pred(data_loader, preds, root)"
      ]
    },
    {
      "cell_type": "markdown",
      "metadata": {},
      "source": [
        "## Visualization of Tooth Alignment Results\n\n\n"
      ]
    },
    {
      "cell_type": "code",
      "execution_count": null,
      "metadata": {
        "collapsed": false
      },
      "outputs": [],
      "source": [
        "data_idx = 0    # Set the data_idx for visualization\n(_, dirs) = get_idx_dirs(root)\nobjs = getTooth(data_idx, root, dirs)\n\n# Show original dentition\npose = getAxis(f'{root}/{dirs[data_idx]}/TeethAxis_Ori.txt', keep_fdi=True)\nshowTooth(objs, pose).show()\n\n# Show aligned dentition\nshowTooth(objs, ans_pose[data_idx]).show()\n\n# Show GT dentition\npose = getAxis(f'{root}/{dirs[data_idx]}/TeethAxis_T2.txt', keep_fdi=True)\nshowTooth(objs, pose).show()"
      ]
    }
  ],
  "metadata": {
    "kernelspec": {
      "display_name": "Python 3",
      "language": "python",
      "name": "python3"
    },
    "language_info": {
      "codemirror_mode": {
        "name": "ipython",
        "version": 3
      },
      "file_extension": ".py",
      "mimetype": "text/x-python",
      "name": "python",
      "nbconvert_exporter": "python",
      "pygments_lexer": "ipython3",
      "version": "3.9.20"
    }
  },
  "nbformat": 4,
  "nbformat_minor": 0
}