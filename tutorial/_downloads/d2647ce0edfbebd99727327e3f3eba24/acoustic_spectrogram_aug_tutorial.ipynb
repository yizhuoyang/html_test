{
  "cells": [
    {
      "cell_type": "markdown",
      "metadata": {},
      "source": [
        "\n# Acoustic augmentation.spectrogram_aug Tutorial\n"
      ]
    },
    {
      "cell_type": "markdown",
      "metadata": {},
      "source": [
        "!pip install pysensing\n\n"
      ]
    },
    {
      "cell_type": "markdown",
      "metadata": {},
      "source": [
        "In this tutorial, we will be implementing a simple acoustic.augmentation.spectrogram_aug\n\n\n"
      ]
    },
    {
      "cell_type": "code",
      "execution_count": null,
      "metadata": {
        "collapsed": false
      },
      "outputs": [],
      "source": [
        "import torch\nimport librosa\nimport numpy as np\nimport torchaudio\nimport matplotlib.pyplot as plt\nimport sys\nimport pysensing.acoustic.augmentation.spectrogram_aug as spec_aug\nimport pysensing.acoustic.preprocessing.transform as transform"
      ]
    },
    {
      "cell_type": "markdown",
      "metadata": {},
      "source": [
        "## Load the audio\nFirst, the example audio is loaded\n\n"
      ]
    },
    {
      "cell_type": "code",
      "execution_count": null,
      "metadata": {
        "collapsed": false
      },
      "outputs": [],
      "source": [
        "# Define the plot function\ndef plot(specs, titles):\n    maxlen = max(spec.shape[-1] for spec in specs)\n    \n    def plot_spec(ax, spec, title):\n        ax.set_title(title)\n        ax.imshow(spec, origin=\"lower\", aspect=\"auto\")\n        ax.set_xlim(0, maxlen)\n    \n    num_specs = len(specs)\n    fig, axes = plt.subplots(num_specs, 1,figsize=(12,8))\n    if num_specs == 1:\n        axes = [axes]\n    for ax, spec, title in zip(axes, specs, titles):\n        plot_spec(ax, spec[0].float(), title)\n    fig.tight_layout()\n    plt.show()\n\n# Load the data\nwaveform, sample_rate = torchaudio.load('example_data/example_audio.wav')\nspectrogram = transform.spectrogram()(waveform)"
      ]
    },
    {
      "cell_type": "markdown",
      "metadata": {},
      "source": [
        "## 1. Timestretch\n\n"
      ]
    },
    {
      "cell_type": "code",
      "execution_count": null,
      "metadata": {
        "collapsed": false
      },
      "outputs": [],
      "source": [
        "# Define timestretch with different fixed_rate\ntimestretch_compress = spec_aug.timestretch(fixed_rate=1.1)\ntimestretch_extend   = spec_aug.timestretch(fixed_rate=0.9)\n# Do timestretch to the input spectrogram\nspectrogram_com = timestretch_compress(spectrogram)\nspectrogram_ext = timestretch_extend(spectrogram)\n# Plotting\nplot([spectrogram,spectrogram_com,spectrogram_ext],['Original','Fixed_rate=1.1','Fixed_rate=1.9'])"
      ]
    },
    {
      "cell_type": "markdown",
      "metadata": {},
      "source": [
        "## 2. Timemasking\n\n"
      ]
    },
    {
      "cell_type": "code",
      "execution_count": null,
      "metadata": {
        "collapsed": false
      },
      "outputs": [],
      "source": [
        "timemasking_trans          = spec_aug.timemasking(200)\ntimemasking_random_trans   = spec_aug.timemasking(200,p=0.5)\n\ntimemask_spec   = timemasking_trans(spectrogram)\ntimemask_r_spec = timemasking_random_trans(spectrogram)\n\nplot([spectrogram,timemask_spec,timemask_r_spec],['Original','Timemasking','Timemasking_random'])"
      ]
    },
    {
      "cell_type": "markdown",
      "metadata": {},
      "source": [
        "## 3. Frequecymasking\n\n"
      ]
    },
    {
      "cell_type": "code",
      "execution_count": null,
      "metadata": {
        "collapsed": false
      },
      "outputs": [],
      "source": [
        "frequencymasking_trans          = spec_aug.frequencymasking(400)\nfrequencymask_spec   = frequencymasking_trans(spectrogram)\nplot([spectrogram,frequencymask_spec],['Original','Frequencymasking'])"
      ]
    },
    {
      "cell_type": "markdown",
      "metadata": {},
      "source": [
        "And that's it. We're done with our acoustic augmentation.signal_aug tutorials. Thanks for reading.\n\n"
      ]
    }
  ],
  "metadata": {
    "kernelspec": {
      "display_name": "Python 3",
      "language": "python",
      "name": "python3"
    },
    "language_info": {
      "codemirror_mode": {
        "name": "ipython",
        "version": 3
      },
      "file_extension": ".py",
      "mimetype": "text/x-python",
      "name": "python",
      "nbconvert_exporter": "python",
      "pygments_lexer": "ipython3",
      "version": "3.8.18"
    }
  },
  "nbformat": 4,
  "nbformat_minor": 0
}