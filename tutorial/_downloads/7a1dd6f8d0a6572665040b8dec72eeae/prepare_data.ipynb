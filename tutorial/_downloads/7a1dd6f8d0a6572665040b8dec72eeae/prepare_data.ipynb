{
  "cells": [
    {
      "cell_type": "markdown",
      "metadata": {},
      "source": [
        "\n# Tooth Alignment Data Preparation\n"
      ]
    },
    {
      "cell_type": "markdown",
      "metadata": {},
      "source": [
        "## Description\n\nA target pose transformation prediction network for each tooth based on\ntheir pointcloud. ### Environment Setup \\* System: Ubuntu 20.04 \\*\nLanguage: Python 3.9 \\* Deep Learning Framework: Pytorch 2.4.0, CUDA\n12.5 ### Workflow \\* Original Data: A separate single-tooth model in the\nlocal coordinate system, original pose description (tooth number +\nquaternion rotation + translation), target pose description. \\*\nPreprocessing: Filter data and perform farthest point sampling on the\ntooth model to obtain the sampled pointcloud. \\* Input: Tooth pointcloud\nin global coordinate system (centered) + 28 \\* 3D original tooth center\npositions. \\* Output: 28 \\* 7D target pose transformations (quaternion\nrotation + translation).\n\n\n"
      ]
    },
    {
      "cell_type": "markdown",
      "metadata": {},
      "source": [
        "## Raw Data Format\n\n\n"
      ]
    },
    {
      "cell_type": "markdown",
      "metadata": {},
      "source": [
        "## Preprocessing\n\nFilter data and perform farthest point sampling to obtain the sampled\n(global coordinate) pointcloud, and save the original and target\ntransformations to the data folder.\n\n\n"
      ]
    },
    {
      "cell_type": "markdown",
      "metadata": {},
      "source": [
        "# Tooth Segmentation Data Preparation\n\n\n"
      ]
    },
    {
      "cell_type": "markdown",
      "metadata": {},
      "source": [
        "## Description\n\nA target FDI label prediction network for each point in dentition based\non its pointcloud. ### Environment Setup \\* System: Ubuntu 20.04 \\*\nLanguage: Python 3.9 \\* Deep Learning Framework: Pytorch 2.4.0, CUDA\n12.5 ### Workflow \\* Original Data: 3D intra-oral scans for upper or\nlower jaws, FDI labels for each vertices. Download from\nhttps://osf.io/xctdy. \\* Preprocessing: Transform the .obj to pointcloud\nand extract features for each point. \\* Input: Point features and its\njaw\u2019s category ([1, 0] for lower and [0, 1] for upper). \\* Output: FDI\nlabels for each point.\n\n\n"
      ]
    },
    {
      "cell_type": "markdown",
      "metadata": {},
      "source": [
        "## Raw Data Format\n\n\n"
      ]
    },
    {
      "cell_type": "markdown",
      "metadata": {},
      "source": [
        "## Preprocessing\n\nTransform the original IOS objects to pointclouds and extract features\n(3D Cartesian Coordinates, Normal Vector, Gaussian Curvature, Average\nAngle Curvature) for each point. Finally save the features, categories\nand labels to the data folder.\n\n"
      ]
    }
  ],
  "metadata": {
    "kernelspec": {
      "display_name": "Python 3",
      "language": "python",
      "name": "python3"
    },
    "language_info": {
      "codemirror_mode": {
        "name": "ipython",
        "version": 3
      },
      "file_extension": ".py",
      "mimetype": "text/x-python",
      "name": "python",
      "nbconvert_exporter": "python",
      "pygments_lexer": "ipython3",
      "version": "3.9.20"
    }
  },
  "nbformat": 4,
  "nbformat_minor": 0
}